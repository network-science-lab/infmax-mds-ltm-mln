{
 "cells": [
  {
   "cell_type": "markdown",
   "metadata": {},
   "source": [
    "# Simple statistical analysis of the results\n",
    "\n",
    "For full data, computations can take a while, hence we recommend to run this notebook in\n",
    "the terminal mode: `jupyter nbconvert --execute visualise.ipynb`"
   ]
  },
  {
   "cell_type": "code",
   "execution_count": 1,
   "metadata": {},
   "outputs": [],
   "source": [
    "%load_ext autoreload\n",
    "%autoreload 2\n",
    "\n",
    "import glob\n",
    "import re\n",
    "from pathlib import Path\n",
    "\n",
    "import matplotlib.pyplot as plt\n",
    "from matplotlib.backends.backend_pdf import PdfPages\n",
    "from tqdm.notebook import tqdm\n",
    "\n",
    "root_path = Path(__file__).resolve().parent.parent.parent\n",
    "\n",
    "from src.aux import slicer_plotter\n",
    "from src.loaders.net_loader import load_network"
   ]
  },
  {
   "cell_type": "markdown",
   "metadata": {},
   "source": [
    "## Load data"
   ]
  },
  {
   "cell_type": "code",
   "execution_count": null,
   "metadata": {},
   "outputs": [],
   "source": [
    "print(\"loading data\")\n",
    "results = slicer_plotter.ResultsSlicer(\n",
    "    [\n",
    "        csv_file for csv_file in glob.glob(r\"../../data/raw_results/**\", recursive=True)\n",
    "        if re.search(r\"batch_([1-9][0-2]?)/.*\\.csv$\", csv_file)\n",
    "    ]\n",
    ")\n",
    "\n",
    "workdir = root_path / \"data/processed_results\"\n",
    "workdir.mkdir(exist_ok=True, parents=True)"
   ]
  },
  {
   "cell_type": "markdown",
   "metadata": {},
   "source": [
    "## Demo"
   ]
  },
  {
   "cell_type": "code",
   "execution_count": null,
   "metadata": {},
   "outputs": [],
   "source": [
    "network_name = \"l2_course_net_1\"\n",
    "budget = 15\n",
    "protocol = \"AND\"\n",
    "mi_value = 0.10\n",
    "ss_method = \"random\"\n",
    "network_graph = load_network(network_name)"
   ]
  },
  {
   "cell_type": "code",
   "execution_count": null,
   "metadata": {},
   "outputs": [],
   "source": [
    "r_slice_nml = results.get_slice(\n",
    "    protocol=protocol,\n",
    "    mi_value=mi_value,\n",
    "    seed_budget=budget,\n",
    "    network=network_name,\n",
    "    ss_method=ss_method,\n",
    ")\n",
    "r_slice_nml"
   ]
  },
  {
   "cell_type": "code",
   "execution_count": null,
   "metadata": {},
   "outputs": [],
   "source": [
    "r_slice_mds = results.get_slice(\n",
    "    protocol=protocol,\n",
    "    mi_value=mi_value,\n",
    "    seed_budget=budget,\n",
    "    network=network_name,\n",
    "    ss_method=f\"D^{ss_method}\",\n",
    ")\n",
    "r_slice_mds"
   ]
  },
  {
   "cell_type": "code",
   "execution_count": null,
   "metadata": {},
   "outputs": [],
   "source": [
    "fig, ax = plt.subplots(nrows=1, ncols=1, figsize=(2, 1.5))  # budget x mi\n",
    "slicer_plotter.ResultsPlotter().plot_single_comparison_dynamics(\n",
    "    record_mds=results.mean_expositions_rec(r_slice_mds),\n",
    "    record_nml=results.mean_expositions_rec(r_slice_nml),\n",
    "    actors_nb=results.get_actors_nb(r_slice_mds),\n",
    "    mi_value=mi_value,\n",
    "    seed_budget=budget,\n",
    "    ax=ax\n",
    ")"
   ]
  },
  {
   "cell_type": "code",
   "execution_count": null,
   "metadata": {},
   "outputs": [],
   "source": [
    "all_centralities, histogram = results.prepare_centrality(network_graph, \"degree\")\n",
    "fig, ax = plt.subplots(nrows=1, ncols=1, figsize=(2, 1.5))\n",
    "slicer_plotter.ResultsPlotter().plot_single_comparison_centralities(\n",
    "    record_mds=r_slice_mds,\n",
    "    record_nml=r_slice_nml,\n",
    "    all_centralities=all_centralities,\n",
    "    hist_centralities=histogram,\n",
    "    mi_value=mi_value,\n",
    "    seed_budget=budget,\n",
    "    ax=ax\n",
    ")"
   ]
  },
  {
   "cell_type": "markdown",
   "metadata": {},
   "source": [
    "## Plot visualisaitons of spreading dynamics to PDF"
   ]
  },
  {
   "cell_type": "code",
   "execution_count": null,
   "metadata": {},
   "outputs": [],
   "source": [
    "print(\"plotting visualisations of spreading dynamics\")\n",
    "plotter = slicer_plotter.ResultsPlotter()\n",
    "pdf = PdfPages(workdir.joinpath(f\"expositions.pdf\"))"
   ]
  },
  {
   "cell_type": "code",
   "execution_count": null,
   "metadata": {},
   "outputs": [],
   "source": [
    "for page_idx, page_case in enumerate(plotter.yield_page()):\n",
    "    print(page_case)\n",
    "\n",
    "    fig, axs = plt.subplots(\n",
    "        nrows=len(plotter._seed_budgets_and if page_case[1] == \"AND\" else plotter._seed_budgets_or),\n",
    "        ncols=len(plotter._mi_values),\n",
    "        figsize=(15, 20),\n",
    "    )\n",
    "\n",
    "    for fig_idx, fig_case in tqdm(enumerate(plotter.yield_figure(protocol=page_case[1]))):\n",
    "        row_idx = fig_idx // len(axs[0])\n",
    "        col_idx = fig_idx % len(axs[1])\n",
    "        # print(page_case, fig_case, page_idx, row_idx, col_idx)\n",
    "\n",
    "        nml_slice = results.get_slice(\n",
    "            protocol=page_case[1],\n",
    "            mi_value=fig_case[1],\n",
    "            seed_budget=fig_case[0],\n",
    "            network=page_case[0],\n",
    "            ss_method=page_case[2],\n",
    "        )\n",
    "        mds_slice = results.get_slice(\n",
    "            protocol=page_case[1],\n",
    "            mi_value=fig_case[1],\n",
    "            seed_budget=fig_case[0],\n",
    "            network=page_case[0],\n",
    "            ss_method=f\"D^{page_case[2]}\",\n",
    "        )\n",
    "        if len(nml_slice) == 0 or len(mds_slice) == 0:\n",
    "            plotter.plot_dummy_fig(\n",
    "                mi_value=fig_case[1],\n",
    "                seed_budget=fig_case[0],\n",
    "                ax=axs[row_idx][col_idx],\n",
    "            )\n",
    "        else:\n",
    "            plotter.plot_single_comparison_dynamics(\n",
    "                record_mds=results.mean_expositions_rec(mds_slice),\n",
    "                record_nml=results.mean_expositions_rec(nml_slice),\n",
    "                actors_nb=results.get_actors_nb(nml_slice),\n",
    "                mi_value=fig_case[1],\n",
    "                seed_budget=fig_case[0],\n",
    "                ax=axs[row_idx][col_idx],\n",
    "            )\n",
    "    \n",
    "    fig.tight_layout(pad=.5, rect=(0.05, 0.05, 0.95, 0.95))\n",
    "    fig.suptitle(f\"Network: {page_case[0]}, Protocol: {page_case[1]}, SSM: {page_case[2]}\")\n",
    "    fig.savefig(pdf, format=\"pdf\")\n",
    "    plt.close(fig)\n",
    "\n",
    "pdf.close()"
   ]
  },
  {
   "cell_type": "markdown",
   "metadata": {},
   "source": [
    "## Plot visualisaitons of seed distributions to PDF"
   ]
  },
  {
   "cell_type": "code",
   "execution_count": null,
   "metadata": {},
   "outputs": [],
   "source": [
    "print(\"plotting visualisations of seed distributions\")\n",
    "newtorks_centralities = {}\n",
    "for network_name in results.raw_df[\"network\"].unique():\n",
    "    graph = load_network(network_name)\n",
    "    degrees = results.prepare_centrality(graph, \"degree\")\n",
    "    neighbourhood_sizes = results.prepare_centrality(graph, \"neighbourhood_size\")\n",
    "    newtorks_centralities[network_name] = {\n",
    "        \"graph\": graph,\n",
    "        \"degree\": {\"centr\": degrees[0], \"hist\": degrees[1]},\n",
    "        \"neighbourhood_size\": {\"centr\": neighbourhood_sizes[0], \"hist\": neighbourhood_sizes[1]},\n",
    "    }"
   ]
  },
  {
   "cell_type": "code",
   "execution_count": 12,
   "metadata": {},
   "outputs": [],
   "source": [
    "plotter = slicer_plotter.ResultsPlotter()\n",
    "pdf = PdfPages(workdir.joinpath(f\"distributions.pdf\"))"
   ]
  },
  {
   "cell_type": "code",
   "execution_count": null,
   "metadata": {},
   "outputs": [],
   "source": [
    "for page_idx, page_case in enumerate(plotter.yield_page()):\n",
    "    print(page_case)\n",
    "\n",
    "    centr_name = plotter._centralities[page_case[2]]\n",
    "    fig, axs = plt.subplots(\n",
    "        nrows=len(plotter._seed_budgets_and if page_case[1] == \"AND\" else plotter._seed_budgets_or),\n",
    "        ncols=len(plotter._mi_values),\n",
    "        figsize=(15, 20),\n",
    "    )\n",
    "\n",
    "    for fig_idx, fig_case in tqdm(enumerate(plotter.yield_figure(protocol=page_case[1]))):\n",
    "        row_idx = fig_idx // len(axs[0])\n",
    "        col_idx = fig_idx % len(axs[1])\n",
    "        # print(page_case, fig_case, page_idx, row_idx, col_idx)\n",
    "\n",
    "        nml_slice = results.get_slice(\n",
    "            protocol=page_case[1],\n",
    "            mi_value=fig_case[1],\n",
    "            seed_budget=fig_case[0],\n",
    "            network=page_case[0],\n",
    "            ss_method=page_case[2],\n",
    "        )\n",
    "        mds_slice = results.get_slice(\n",
    "            protocol=page_case[1],\n",
    "            mi_value=fig_case[1],\n",
    "            seed_budget=fig_case[0],\n",
    "            network=page_case[0],\n",
    "            ss_method=f\"D^{page_case[2]}\",\n",
    "        )\n",
    "        if len(nml_slice) == 0 or len(mds_slice) == 0:\n",
    "            plotter.plot_dummy_fig(\n",
    "                mi_value=fig_case[1],\n",
    "                seed_budget=fig_case[0],\n",
    "                ax=axs[row_idx][col_idx],\n",
    "            )\n",
    "        else:\n",
    "            plotter.plot_single_comparison_centralities(\n",
    "                record_mds=mds_slice,\n",
    "                record_nml=nml_slice,\n",
    "                all_centralities=newtorks_centralities[page_case[0]][centr_name][\"centr\"],\n",
    "                hist_centralities=newtorks_centralities[page_case[0]][centr_name][\"hist\"],\n",
    "                mi_value=fig_case[1],\n",
    "                seed_budget=fig_case[0],\n",
    "                ax=axs[row_idx][col_idx],\n",
    "            )\n",
    "    \n",
    "    fig.tight_layout(pad=.5, rect=(0.05, 0.05, 0.95, 0.95))\n",
    "    fig.suptitle(f\"Network: {page_case[0]}, Protocol: {page_case[1]}, SSM: {page_case[2]}\")\n",
    "    fig.savefig(pdf, format=\"pdf\")\n",
    "    plt.close(fig)\n",
    "\n",
    "pdf.close()"
   ]
  }
 ],
 "metadata": {
  "kernelspec": {
   "display_name": "infmax-mds-ltm-mln",
   "language": "python",
   "name": "infmax-mds-ltm-mln"
  },
  "language_info": {
   "codemirror_mode": {
    "name": "ipython",
    "version": 3
   },
   "file_extension": ".py",
   "mimetype": "text/x-python",
   "name": "python",
   "nbconvert_exporter": "python",
   "pygments_lexer": "ipython3",
   "version": "3.12.4"
  }
 },
 "nbformat": 4,
 "nbformat_minor": 2
}
