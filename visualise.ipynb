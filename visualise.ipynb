{
 "cells": [
  {
   "cell_type": "markdown",
   "metadata": {},
   "source": [
    "# Simple statistical analysis of the results\n",
    "\n",
    "For full data, computations can take a while, hence we recommend to run this notebook in\n",
    "the terminal mode: `jupyter nbconvert --execute visualise.ipynb`"
   ]
  },
  {
   "cell_type": "code",
   "execution_count": 1,
   "metadata": {},
   "outputs": [],
   "source": [
    "%load_ext autoreload\n",
    "%autoreload 2\n",
    "\n",
    "import glob\n",
    "import re\n",
    "from itertools import product\n",
    "from pathlib import Path\n",
    "\n",
    "import matplotlib.pyplot as plt\n",
    "import numpy as np\n",
    "import pandas as pd\n",
    "\n",
    "from matplotlib.backends.backend_pdf import PdfPages\n",
    "from tqdm.notebook import tqdm\n",
    "\n",
    "from src import visualisation\n",
    "from src.loaders.net_loader import load_network"
   ]
  },
  {
   "cell_type": "markdown",
   "metadata": {},
   "source": [
    "## Load data"
   ]
  },
  {
   "cell_type": "code",
   "execution_count": 2,
   "metadata": {},
   "outputs": [],
   "source": [
    "results = visualisation.Results(\n",
    "    [\n",
    "        csv_file for csv_file in glob.glob(r\"data/raw_results/**\", recursive=True)\n",
    "        if re.search(r\"batch_([1-4])/.*\\.csv$\", csv_file)\n",
    "    ]\n",
    ")\n",
    "\n",
    "workdir = Path(\"data/processed_results\")\n",
    "workdir.mkdir(exist_ok=True, parents=True)"
   ]
  },
  {
   "cell_type": "markdown",
   "metadata": {},
   "source": [
    "## Demo"
   ]
  },
  {
   "cell_type": "code",
   "execution_count": 3,
   "metadata": {},
   "outputs": [],
   "source": [
    "network_name = \"l2_course_net_1\"\n",
    "budget = 15\n",
    "protocol = \"AND\"\n",
    "mi_value = 0.10\n",
    "ss_method = \"random\"\n",
    "network_graph = load_network(network_name, as_tensor=False)"
   ]
  },
  {
   "cell_type": "code",
   "execution_count": null,
   "metadata": {},
   "outputs": [],
   "source": [
    "r_slice_nml = results.get_slice(\n",
    "    protocol=protocol,\n",
    "    mi_value=mi_value,\n",
    "    seed_budget=budget,\n",
    "    network=network_name,\n",
    "    ss_method=ss_method,\n",
    ")\n",
    "r_slice_nml"
   ]
  },
  {
   "cell_type": "code",
   "execution_count": null,
   "metadata": {},
   "outputs": [],
   "source": [
    "r_slice_mds = results.get_slice(\n",
    "    protocol=protocol,\n",
    "    mi_value=mi_value,\n",
    "    seed_budget=budget,\n",
    "    network=network_name,\n",
    "    ss_method=f\"d^{ss_method}\",\n",
    ")\n",
    "r_slice_mds"
   ]
  },
  {
   "cell_type": "code",
   "execution_count": null,
   "metadata": {},
   "outputs": [],
   "source": [
    "fig, ax = plt.subplots(nrows=1, ncols=1, figsize=(2, 1.5))  # budget x mi\n",
    "visualisation.Plotter().plot_single_comparison_dynamics(\n",
    "    record_mds=results.mean_expositions_rec(r_slice_mds),\n",
    "    record_nml=results.mean_expositions_rec(r_slice_nml),\n",
    "    actors_nb=results.get_actors_nb(r_slice_mds),\n",
    "    mi_value=mi_value,\n",
    "    seed_budget=budget,\n",
    "    ax=ax\n",
    ")"
   ]
  },
  {
   "cell_type": "code",
   "execution_count": null,
   "metadata": {},
   "outputs": [],
   "source": [
    "all_centralities, histogram = results.prepare_centrality(network_graph, \"degree\")\n",
    "fig, ax = plt.subplots(nrows=1, ncols=1, figsize=(2, 1.5))\n",
    "visualisation.Plotter().plot_single_comparison_centralities(\n",
    "    record_mds=r_slice_mds,\n",
    "    record_nml=r_slice_nml,\n",
    "    all_centralities=all_centralities,\n",
    "    hist_centralities=histogram,\n",
    "    mi_value=mi_value,\n",
    "    seed_budget=budget,\n",
    "    ax=ax\n",
    ")"
   ]
  },
  {
   "cell_type": "markdown",
   "metadata": {},
   "source": [
    "## Plot visualisaitons of spreading dynamics to PDF"
   ]
  },
  {
   "cell_type": "code",
   "execution_count": 7,
   "metadata": {},
   "outputs": [],
   "source": [
    "plotter = visualisation.Plotter()\n",
    "pdf = PdfPages(workdir.joinpath(f\"expositions.pdf\"))"
   ]
  },
  {
   "cell_type": "code",
   "execution_count": null,
   "metadata": {},
   "outputs": [],
   "source": [
    "for page_idx, page_case in enumerate(plotter.yield_page()):\n",
    "    print(page_case)\n",
    "\n",
    "    fig, axs = plt.subplots(\n",
    "        nrows=len(plotter._seed_budgets_and if page_case[1] == \"AND\" else plotter._seed_budgets_and),\n",
    "        ncols=len(plotter._mi_values),\n",
    "        figsize=(15, 20),\n",
    "    )\n",
    "\n",
    "    for fig_idx, fig_case in tqdm(enumerate(plotter.yield_figure(protocol=page_case[1]))):\n",
    "        row_idx = fig_idx // len(axs[0])\n",
    "        col_idx = fig_idx % len(axs[1])\n",
    "        # print(page_case, fig_case, page_idx, row_idx, col_idx)\n",
    "\n",
    "        nml_slice = results.get_slice(\n",
    "            protocol=page_case[1],\n",
    "            mi_value=fig_case[1],\n",
    "            seed_budget=fig_case[0],\n",
    "            network=page_case[0],\n",
    "            ss_method=page_case[2],\n",
    "        )\n",
    "        mds_slice = results.get_slice(\n",
    "            protocol=page_case[1],\n",
    "            mi_value=fig_case[1],\n",
    "            seed_budget=fig_case[0],\n",
    "            network=page_case[0],\n",
    "            ss_method=f\"d^{page_case[2]}\",\n",
    "        )\n",
    "        if len(nml_slice) == 0 or len(mds_slice) == 0:\n",
    "            plotter.plot_dummy_fig(\n",
    "                mi_value=fig_case[1],\n",
    "                seed_budget=fig_case[0],\n",
    "                ax=axs[row_idx][col_idx],\n",
    "            )\n",
    "        else:\n",
    "            plotter.plot_single_comparison_dynamics(\n",
    "                record_mds=results.mean_expositions_rec(mds_slice),\n",
    "                record_nml=results.mean_expositions_rec(nml_slice),\n",
    "                actors_nb=results.get_actors_nb(nml_slice),\n",
    "                mi_value=fig_case[1],\n",
    "                seed_budget=fig_case[0],\n",
    "                ax=axs[row_idx][col_idx],\n",
    "            )\n",
    "    \n",
    "    fig.tight_layout(pad=.5, rect=(0.05, 0.05, 0.95, 0.95))\n",
    "    fig.suptitle(f\"Network: {page_case[0]}, Protocol: {page_case[1]}, SSM: {page_case[2]}\")\n",
    "    fig.savefig(pdf, format=\"pdf\")\n",
    "    plt.close(fig)\n",
    "\n",
    "pdf.close()"
   ]
  },
  {
   "cell_type": "markdown",
   "metadata": {},
   "source": [
    "## Plot visualisaitons of seed distributions to PDF"
   ]
  },
  {
   "cell_type": "code",
   "execution_count": 14,
   "metadata": {},
   "outputs": [],
   "source": [
    "newtorks_centralities = {}\n",
    "for network_name in results.raw_df[\"network\"].unique():\n",
    "    graph = load_network(network_name, as_tensor=False)\n",
    "    degrees = results.prepare_centrality(graph, \"degree\")\n",
    "    neighbourhood_sizes = results.prepare_centrality(graph, \"neighbourhood_size\")\n",
    "    newtorks_centralities[network_name] = {\n",
    "        \"graph\": graph,\n",
    "        \"degree\": {\"centr\": degrees[0], \"hist\": degrees[1]},\n",
    "        \"neighbourhood_size\": {\"centr\": neighbourhood_sizes[0], \"hist\": neighbourhood_sizes[1]},\n",
    "    }"
   ]
  },
  {
   "cell_type": "code",
   "execution_count": 15,
   "metadata": {},
   "outputs": [],
   "source": [
    "plotter = visualisation.Plotter()\n",
    "pdf = PdfPages(workdir.joinpath(f\"distributions.pdf\"))"
   ]
  },
  {
   "cell_type": "code",
   "execution_count": null,
   "metadata": {},
   "outputs": [],
   "source": [
    "i = 0\n",
    "for page_idx, page_case in enumerate(plotter.yield_page()):\n",
    "    print(page_case)\n",
    "\n",
    "    centr_name = plotter._centralities[page_case[2]]\n",
    "    fig, axs = plt.subplots(\n",
    "        nrows=len(plotter._seed_budgets_and if page_case[1] == \"AND\" else plotter._seed_budgets_and),\n",
    "        ncols=len(plotter._mi_values),\n",
    "        figsize=(15, 20),\n",
    "    )\n",
    "\n",
    "    for fig_idx, fig_case in tqdm(enumerate(plotter.yield_figure(protocol=page_case[1]))):\n",
    "        row_idx = fig_idx // len(axs[0])\n",
    "        col_idx = fig_idx % len(axs[1])\n",
    "        # print(page_case, fig_case, page_idx, row_idx, col_idx)\n",
    "\n",
    "        nml_slice = results.get_slice(\n",
    "            protocol=page_case[1],\n",
    "            mi_value=fig_case[1],\n",
    "            seed_budget=fig_case[0],\n",
    "            network=page_case[0],\n",
    "            ss_method=page_case[2],\n",
    "        )\n",
    "        mds_slice = results.get_slice(\n",
    "            protocol=page_case[1],\n",
    "            mi_value=fig_case[1],\n",
    "            seed_budget=fig_case[0],\n",
    "            network=page_case[0],\n",
    "            ss_method=f\"d^{page_case[2]}\",\n",
    "        )\n",
    "        if len(nml_slice) == 0 or len(mds_slice) == 0:\n",
    "            plotter.plot_dummy_fig(\n",
    "                mi_value=fig_case[1],\n",
    "                seed_budget=fig_case[0],\n",
    "                ax=axs[row_idx][col_idx],\n",
    "            )\n",
    "        else:\n",
    "            plotter.plot_single_comparison_centralities(\n",
    "                record_mds=mds_slice,\n",
    "                record_nml=nml_slice,\n",
    "                all_centralities=newtorks_centralities[page_case[0]][centr_name][\"centr\"],\n",
    "                hist_centralities=newtorks_centralities[page_case[0]][centr_name][\"hist\"],\n",
    "                mi_value=fig_case[1],\n",
    "                seed_budget=fig_case[0],\n",
    "                ax=axs[row_idx][col_idx],\n",
    "            )\n",
    "    \n",
    "    fig.tight_layout(pad=.5, rect=(0.05, 0.05, 0.95, 0.95))\n",
    "    fig.suptitle(f\"Network: {page_case[0]}, Protocol: {page_case[1]}, SSM: {page_case[2]}\")\n",
    "    fig.savefig(pdf, format=\"pdf\")\n",
    "    plt.close(fig)\n",
    "\n",
    "    i += 1\n",
    "    if i >= 2:\n",
    "        break\n",
    "\n",
    "pdf.close()"
   ]
  },
  {
   "cell_type": "markdown",
   "metadata": {},
   "source": [
    "## Statistics of seed sets used in simulations"
   ]
  },
  {
   "cell_type": "code",
   "execution_count": null,
   "metadata": {},
   "outputs": [],
   "source": [
    "iterator_or = product(\n",
    "    visualisation.Plotter._networks,\n",
    "    [visualisation.Plotter._protocol_or],\n",
    "    visualisation.Plotter._seed_budgets_or,\n",
    "    visualisation.Plotter._mi_values,\n",
    "    [*[f\"d^{ssm}\" for ssm in visualisation.Plotter._ss_methods], *visualisation.Plotter._ss_methods]\n",
    ")\n",
    "iterator_or = list(iterator_or)\n",
    "\n",
    "iterator_and = product(\n",
    "    visualisation.Plotter._networks,\n",
    "    [visualisation.Plotter._protocol_and],\n",
    "    visualisation.Plotter._seed_budgets_and,\n",
    "    visualisation.Plotter._mi_values,\n",
    "    [*[f\"d^{ssm}\" for ssm in visualisation.Plotter._ss_methods], *visualisation.Plotter._ss_methods]\n",
    ")\n",
    "iterator_and = list(iterator_and)\n",
    "\n",
    "similarity_list = []\n",
    "\n",
    "for iterator in [iterator_or, iterator_and]:\n",
    "    for idx, simulated_case in enumerate(tqdm(iterator)):\n",
    "        seed_sets = results.obtain_seed_sets_for_simulated_case(results.raw_df, *simulated_case)\n",
    "        similarity = visualisation.analyse_set_similarity(seed_sets)\n",
    "        similarity_list.append(\n",
    "            {\n",
    "                \"network\": simulated_case[0],\n",
    "                \"protocol\": simulated_case[1],\n",
    "                \"seed_budget\": simulated_case[2],\n",
    "                \"mi_value\": simulated_case[3],\n",
    "                \"ss_method\": simulated_case[4],\n",
    "                **similarity,\n",
    "            }\n",
    "        )\n",
    "\n",
    "similarity_df = pd.DataFrame(similarity_list)\n",
    "similarity_df"
   ]
  },
  {
   "cell_type": "code",
   "execution_count": 10,
   "metadata": {},
   "outputs": [],
   "source": [
    "similarity_df.to_csv(workdir.joinpath(\"similarities.csv\"))"
   ]
  },
  {
   "cell_type": "markdown",
   "metadata": {},
   "source": [
    "## Statistical analysis of MDS rankings"
   ]
  },
  {
   "cell_type": "code",
   "execution_count": null,
   "metadata": {},
   "outputs": [],
   "source": [
    "zip_1_path = \"data/raw_results/batch_1/rankings.zip\"\n",
    "zip_2_path = \"data/raw_results/batch_2/rankings.zip\"\n",
    "used_mds_list = [\n",
    "    *visualisation.JSONParser().read_minimal_dominating_sets(zip_1_path),\n",
    "    *visualisation.JSONParser().read_minimal_dominating_sets(zip_2_path),\n",
    "]\n",
    "used_mds_df = pd.DataFrame(used_mds_list)\n",
    "used_mds_df"
   ]
  },
  {
   "cell_type": "code",
   "execution_count": null,
   "metadata": {},
   "outputs": [],
   "source": [
    "iterator_mds = product(\n",
    "    used_mds_df[\"ss_method\"].unique(),\n",
    "    used_mds_df[\"network\"].unique(),\n",
    ")\n",
    "iterator_mds = list(iterator_mds)\n",
    "\n",
    "\n",
    "mds_similarity_list = []\n",
    "for idx, simulated_case in enumerate(tqdm(iterator_mds)):\n",
    "    case_mds = used_mds_df.loc[\n",
    "        (used_mds_df[\"ss_method\"] == simulated_case[0]) &\n",
    "        (used_mds_df[\"network\"] == simulated_case[1])\n",
    "    ][\"mds\"]\n",
    "    mds_lengths = [len(cm) for cm in case_mds]\n",
    "    mds_similarity = visualisation.analyse_set_similarity(case_mds)\n",
    "    mds_similarity_list.append(\n",
    "        {\n",
    "            \"network\": simulated_case[1],\n",
    "            \"ss_method\": simulated_case[0],\n",
    "            \"max_mds_length\": np.max(mds_lengths),\n",
    "            \"min_mds_length\": np.min(mds_lengths),            \n",
    "            \"avg_mds_length\": np.mean(mds_lengths),\n",
    "            \"std_mds_length\": np.std(mds_lengths),\n",
    "            **mds_similarity,\n",
    "        }\n",
    "    )\n",
    "\n",
    "mds_similarity_df = pd.DataFrame(mds_similarity_list)\n",
    "mds_similarity_df"
   ]
  },
  {
   "cell_type": "code",
   "execution_count": 13,
   "metadata": {},
   "outputs": [],
   "source": [
    "mds_similarity_df.to_csv(workdir.joinpath(\"similarities_mds.csv\"))\n",
    "used_mds_df.to_csv(workdir.joinpath(\"used_mds.csv\"))"
   ]
  }
 ],
 "metadata": {
  "kernelspec": {
   "display_name": "infmax-mds-ltm-mln",
   "language": "python",
   "name": "infmax-mds-ltm-mln"
  },
  "language_info": {
   "codemirror_mode": {
    "name": "ipython",
    "version": 3
   },
   "file_extension": ".py",
   "mimetype": "text/x-python",
   "name": "python",
   "nbconvert_exporter": "python",
   "pygments_lexer": "ipython3",
   "version": "3.12.4"
  }
 },
 "nbformat": 4,
 "nbformat_minor": 2
}
